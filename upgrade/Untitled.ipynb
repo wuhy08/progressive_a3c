{
 "cells": [
  {
   "cell_type": "code",
   "execution_count": 1,
   "metadata": {
    "collapsed": false
   },
   "outputs": [],
   "source": [
    "import game_ac_network2\n",
    "import tensorflow as tf"
   ]
  },
  {
   "cell_type": "code",
   "execution_count": 2,
   "metadata": {
    "collapsed": false,
    "scrolled": true
   },
   "outputs": [],
   "source": [
    "name = \"pnn\"\n",
    "\n",
    "structure = [(84, 84, 3), (8, 8, 4, 32), (4, 4, 2, 64), (3, 3, 1, 64), (512,)]\n",
    "\n",
    "pnn = game_ac_network2.PNN(name, structure, branch_layer=1)"
   ]
  },
  {
   "cell_type": "code",
   "execution_count": 3,
   "metadata": {
    "collapsed": false
   },
   "outputs": [],
   "source": [
    "pnn.add_col(3)"
   ]
  },
  {
   "cell_type": "code",
   "execution_count": 4,
   "metadata": {
    "collapsed": false
   },
   "outputs": [],
   "source": [
    "pnn.add_col(3)"
   ]
  },
  {
   "cell_type": "code",
   "execution_count": 5,
   "metadata": {
    "collapsed": false
   },
   "outputs": [
    {
     "data": {
      "text/plain": [
       "[[<tf.Tensor 'Placeholder:0' shape=(?, 84, 84, 3) dtype=float32>,\n",
       "  <tf.Tensor 'pnn/col0/layer1/conv/Relu:0' shape=(?, 21, 21, 32) dtype=float32>,\n",
       "  <tf.Tensor 'pnn/col0/layer2/conv/Relu:0' shape=(?, 11, 11, 64) dtype=float32>,\n",
       "  <tf.Tensor 'pnn/col0/layer3/flatten/Reshape:0' shape=(?, 7744) dtype=float32>,\n",
       "  <tf.Tensor 'pnn/col0/layer4/fc/Relu:0' shape=(?, 512) dtype=float32>,\n",
       "  <tf.Tensor 'pnn/col0/layer5/fc/BiasAdd:0' shape=(?, 3) dtype=float32>],\n",
       " [<tf.Tensor 'Placeholder:0' shape=(?, 84, 84, 3) dtype=float32>,\n",
       "  <tf.Tensor 'pnn/col1/layer1/combine/Relu:0' shape=(?, 21, 21, 32) dtype=float32>,\n",
       "  <tf.Tensor 'pnn/col1/layer2/combine/Relu:0' shape=(?, 11, 11, 64) dtype=float32>,\n",
       "  <tf.Tensor 'pnn/col1/layer3/flatten/Reshape:0' shape=(?, 7744) dtype=float32>,\n",
       "  <tf.Tensor 'pnn/col1/layer4/combine/Relu:0' shape=(?, 512) dtype=float32>,\n",
       "  <tf.Tensor 'pnn/col1/layer5/combine:0' shape=(?, 3) dtype=float32>]]"
      ]
     },
     "execution_count": 5,
     "metadata": {},
     "output_type": "execute_result"
    }
   ],
   "source": [
    "pnn.h_task_layer"
   ]
  },
  {
   "cell_type": "code",
   "execution_count": 6,
   "metadata": {
    "collapsed": true
   },
   "outputs": [],
   "source": [
    "pnn.add_col(3)"
   ]
  },
  {
   "cell_type": "code",
   "execution_count": 7,
   "metadata": {
    "collapsed": false
   },
   "outputs": [
    {
     "data": {
      "text/plain": [
       "[[<tf.Tensor 'Placeholder:0' shape=(?, 84, 84, 3) dtype=float32>,\n",
       "  <tf.Tensor 'pnn/col0/layer1/conv/Relu:0' shape=(?, 21, 21, 32) dtype=float32>,\n",
       "  <tf.Tensor 'pnn/col0/layer2/conv/Relu:0' shape=(?, 11, 11, 64) dtype=float32>,\n",
       "  <tf.Tensor 'pnn/col0/layer3/flatten/Reshape:0' shape=(?, 7744) dtype=float32>,\n",
       "  <tf.Tensor 'pnn/col0/layer4/fc/Relu:0' shape=(?, 512) dtype=float32>,\n",
       "  <tf.Tensor 'pnn/col0/layer5/fc/BiasAdd:0' shape=(?, 3) dtype=float32>],\n",
       " [<tf.Tensor 'Placeholder:0' shape=(?, 84, 84, 3) dtype=float32>,\n",
       "  <tf.Tensor 'pnn/col1/layer1/combine/Relu:0' shape=(?, 21, 21, 32) dtype=float32>,\n",
       "  <tf.Tensor 'pnn/col1/layer2/combine/Relu:0' shape=(?, 11, 11, 64) dtype=float32>,\n",
       "  <tf.Tensor 'pnn/col1/layer3/flatten/Reshape:0' shape=(?, 7744) dtype=float32>,\n",
       "  <tf.Tensor 'pnn/col1/layer4/combine/Relu:0' shape=(?, 512) dtype=float32>,\n",
       "  <tf.Tensor 'pnn/col1/layer5/combine:0' shape=(?, 3) dtype=float32>],\n",
       " [<tf.Tensor 'Placeholder:0' shape=(?, 84, 84, 3) dtype=float32>,\n",
       "  <tf.Tensor 'pnn/col2/layer1/combine/Relu:0' shape=(?, 21, 21, 32) dtype=float32>,\n",
       "  <tf.Tensor 'pnn/col2/layer2/combine/Relu:0' shape=(?, 11, 11, 64) dtype=float32>,\n",
       "  <tf.Tensor 'pnn/col2/layer3/flatten/Reshape:0' shape=(?, 7744) dtype=float32>,\n",
       "  <tf.Tensor 'pnn/col2/layer4/combine/Relu:0' shape=(?, 512) dtype=float32>,\n",
       "  <tf.Tensor 'pnn/col2/layer5/combine:0' shape=(?, 3) dtype=float32>]]"
      ]
     },
     "execution_count": 7,
     "metadata": {},
     "output_type": "execute_result"
    }
   ],
   "source": [
    "pnn.h_task_layer"
   ]
  },
  {
   "cell_type": "code",
   "execution_count": null,
   "metadata": {
    "collapsed": true
   },
   "outputs": [],
   "source": []
  },
  {
   "cell_type": "code",
   "execution_count": 8,
   "metadata": {
    "collapsed": true
   },
   "outputs": [],
   "source": [
    "sess = tf.InteractiveSession()"
   ]
  },
  {
   "cell_type": "code",
   "execution_count": 9,
   "metadata": {
    "collapsed": true
   },
   "outputs": [],
   "source": [
    "writer = tf.summary.FileWriter('logs', sess.graph)"
   ]
  },
  {
   "cell_type": "code",
   "execution_count": 10,
   "metadata": {
    "collapsed": true
   },
   "outputs": [],
   "source": [
    "sess.run(tf.global_variables_initializer())"
   ]
  },
  {
   "cell_type": "code",
   "execution_count": 11,
   "metadata": {
    "collapsed": true
   },
   "outputs": [],
   "source": [
    "import inspect"
   ]
  },
  {
   "cell_type": "code",
   "execution_count": 12,
   "metadata": {
    "collapsed": true
   },
   "outputs": [],
   "source": [
    "import unittest\n",
    "import gym\n",
    "import sys\n",
    "import os\n",
    "import numpy as np\n",
    "import tensorflow as tf\n",
    "import itertools\n",
    "import shutil\n",
    "import threading\n",
    "import multiprocessing"
   ]
  },
  {
   "cell_type": "code",
   "execution_count": 39,
   "metadata": {
    "collapsed": true
   },
   "outputs": [],
   "source": [
    "import gym"
   ]
  },
  {
   "cell_type": "code",
   "execution_count": 48,
   "metadata": {
    "collapsed": false
   },
   "outputs": [
    {
     "name": "stderr",
     "output_type": "stream",
     "text": [
      "[2017-04-27 20:06:10,755] Making new env: Breakout-v0\n"
     ]
    }
   ],
   "source": [
    "env_ = gym.make(\"Breakout-v0\")"
   ]
  },
  {
   "cell_type": "code",
   "execution_count": 49,
   "metadata": {
    "collapsed": false
   },
   "outputs": [],
   "source": [
    "VALID_ACTIONS = env_.observation_space.shape"
   ]
  },
  {
   "cell_type": "code",
   "execution_count": 50,
   "metadata": {
    "collapsed": false
   },
   "outputs": [
    {
     "data": {
      "text/plain": [
       "[210, 160, 3]"
      ]
     },
     "execution_count": 50,
     "metadata": {},
     "output_type": "execute_result"
    }
   ],
   "source": [
    "list(VALID_ACTIONS)"
   ]
  },
  {
   "cell_type": "code",
   "execution_count": 29,
   "metadata": {
    "collapsed": true
   },
   "outputs": [],
   "source": [
    "VALID_ACTIONS = list(range(env_.action_space.n))"
   ]
  },
  {
   "cell_type": "code",
   "execution_count": 30,
   "metadata": {
    "collapsed": false
   },
   "outputs": [
    {
     "data": {
      "text/plain": [
       "[0, 1, 2, 3, 4, 5]"
      ]
     },
     "execution_count": 30,
     "metadata": {},
     "output_type": "execute_result"
    }
   ],
   "source": [
    "VALID_ACTIONS"
   ]
  },
  {
   "cell_type": "code",
   "execution_count": 37,
   "metadata": {
    "collapsed": false
   },
   "outputs": [],
   "source": [
    "A = (1 \n",
    "    if True else \n",
    "    0)"
   ]
  },
  {
   "cell_type": "code",
   "execution_count": 38,
   "metadata": {
    "collapsed": false
   },
   "outputs": [
    {
     "data": {
      "text/plain": [
       "1"
      ]
     },
     "execution_count": 38,
     "metadata": {},
     "output_type": "execute_result"
    }
   ],
   "source": [
    "A"
   ]
  },
  {
   "cell_type": "code",
   "execution_count": 51,
   "metadata": {
    "collapsed": false
   },
   "outputs": [
    {
     "data": {
      "text/plain": [
       "['__class__',\n",
       " '__del__',\n",
       " '__delattr__',\n",
       " '__dict__',\n",
       " '__doc__',\n",
       " '__format__',\n",
       " '__getattribute__',\n",
       " '__hash__',\n",
       " '__init__',\n",
       " '__module__',\n",
       " '__new__',\n",
       " '__reduce__',\n",
       " '__reduce_ex__',\n",
       " '__repr__',\n",
       " '__setattr__',\n",
       " '__sizeof__',\n",
       " '__str__',\n",
       " '__subclasshook__',\n",
       " '__weakref__',\n",
       " '_close',\n",
       " '_closed',\n",
       " '_elapsed_seconds',\n",
       " '_elapsed_steps',\n",
       " '_ensure_no_double_wrap',\n",
       " '_env_closer_id',\n",
       " '_episode_started_at',\n",
       " '_max_episode_seconds',\n",
       " '_max_episode_steps',\n",
       " '_owns_render',\n",
       " '_past_limit',\n",
       " '_render',\n",
       " '_reset',\n",
       " '_seed',\n",
       " '_step',\n",
       " 'action_space',\n",
       " 'class_name',\n",
       " 'close',\n",
       " 'configure',\n",
       " 'env',\n",
       " 'metadata',\n",
       " 'monitor',\n",
       " 'observation_space',\n",
       " 'render',\n",
       " 'reset',\n",
       " 'reward_range',\n",
       " 'seed',\n",
       " 'spec',\n",
       " 'step',\n",
       " 'unwrapped']"
      ]
     },
     "execution_count": 51,
     "metadata": {},
     "output_type": "execute_result"
    }
   ],
   "source": [
    "dir(env_)"
   ]
  },
  {
   "cell_type": "code",
   "execution_count": 52,
   "metadata": {
    "collapsed": false
   },
   "outputs": [
    {
     "data": {
      "text/plain": [
       "<bound method TimeLimit.configure of <TimeLimit<AtariEnv<Breakout-v0>>>>"
      ]
     },
     "execution_count": 52,
     "metadata": {},
     "output_type": "execute_result"
    }
   ],
   "source": [
    "env_.configure"
   ]
  },
  {
   "cell_type": "code",
   "execution_count": 53,
   "metadata": {
    "collapsed": true
   },
   "outputs": [],
   "source": [
    "import inspect"
   ]
  },
  {
   "cell_type": "code",
   "execution_count": 55,
   "metadata": {
    "collapsed": false
   },
   "outputs": [
    {
     "name": "stdout",
     "output_type": "stream",
     "text": [
      "Help on method configure in module gym.core:\n",
      "\n",
      "configure(self, *args, **kwargs) method of gym.wrappers.time_limit.TimeLimit instance\n",
      "\n"
     ]
    }
   ],
   "source": [
    "help(env_.configure)"
   ]
  },
  {
   "cell_type": "code",
   "execution_count": 56,
   "metadata": {
    "collapsed": true
   },
   "outputs": [],
   "source": [
    "import numpy as np"
   ]
  },
  {
   "cell_type": "code",
   "execution_count": 57,
   "metadata": {
    "collapsed": true
   },
   "outputs": [],
   "source": [
    "a = np.zeros((4,5,3))"
   ]
  },
  {
   "cell_type": "code",
   "execution_count": 60,
   "metadata": {
    "collapsed": true
   },
   "outputs": [],
   "source": [
    "b=np.concatenate([a, a], axis=2)"
   ]
  },
  {
   "cell_type": "code",
   "execution_count": 61,
   "metadata": {
    "collapsed": false
   },
   "outputs": [
    {
     "data": {
      "text/plain": [
       "(4, 5, 6)"
      ]
     },
     "execution_count": 61,
     "metadata": {},
     "output_type": "execute_result"
    }
   ],
   "source": [
    "b.shape"
   ]
  },
  {
   "cell_type": "code",
   "execution_count": null,
   "metadata": {
    "collapsed": true
   },
   "outputs": [],
   "source": []
  }
 ],
 "metadata": {
  "kernelspec": {
   "display_name": "Python 2",
   "language": "python",
   "name": "python2"
  },
  "language_info": {
   "codemirror_mode": {
    "name": "ipython",
    "version": 2
   },
   "file_extension": ".py",
   "mimetype": "text/x-python",
   "name": "python",
   "nbconvert_exporter": "python",
   "pygments_lexer": "ipython2",
   "version": "2.7.13"
  }
 },
 "nbformat": 4,
 "nbformat_minor": 1
}
